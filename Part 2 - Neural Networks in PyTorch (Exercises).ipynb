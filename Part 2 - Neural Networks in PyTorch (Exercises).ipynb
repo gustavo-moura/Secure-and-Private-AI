{
 "cells": [
  {
   "cell_type": "markdown",
   "metadata": {},
   "source": [
    "# Neural networks with PyTorch\n",
    "\n",
    "Deep learning networks tend to be massive with dozens or hundreds of layers, that's where the term \"deep\" comes from. You can build one of these deep networks using only weight matrices as we did in the previous notebook, but in general it's very cumbersome and difficult to implement. PyTorch has a nice module `nn` that provides a nice way to efficiently build large neural networks."
   ]
  },
  {
   "cell_type": "code",
   "execution_count": 1,
   "metadata": {},
   "outputs": [],
   "source": [
    "# Import necessary packages\n",
    "\n",
    "%matplotlib inline\n",
    "%config InlineBackend.figure_format = 'retina'\n",
    "\n",
    "import numpy as np\n",
    "import torch\n",
    "\n",
    "import helper\n",
    "\n",
    "import matplotlib.pyplot as plt"
   ]
  },
  {
   "cell_type": "markdown",
   "metadata": {},
   "source": [
    "\n",
    "Now we're going to build a larger network that can solve a (formerly) difficult problem, identifying text in an image. Here we'll use the MNIST dataset which consists of greyscale handwritten digits. Each image is 28x28 pixels, you can see a sample below\n",
    "\n",
    "<img src='assets/mnist.png'>\n",
    "\n",
    "Our goal is to build a neural network that can take one of these images and predict the digit in the image.\n",
    "\n",
    "First up, we need to get our dataset. This is provided through the `torchvision` package. The code below will download the MNIST dataset, then create training and test datasets for us. Don't worry too much about the details here, you'll learn more about this later."
   ]
  },
  {
   "cell_type": "code",
   "execution_count": 2,
   "metadata": {},
   "outputs": [
    {
     "name": "stdout",
     "output_type": "stream",
     "text": [
      "Downloading http://yann.lecun.com/exdb/mnist/train-images-idx3-ubyte.gz to /home/siena/.pytorch/MNIST_data/MNIST/raw/train-images-idx3-ubyte.gz\n"
     ]
    },
    {
     "name": "stderr",
     "output_type": "stream",
     "text": [
      "100.1%"
     ]
    },
    {
     "name": "stdout",
     "output_type": "stream",
     "text": [
      "Extracting /home/siena/.pytorch/MNIST_data/MNIST/raw/train-images-idx3-ubyte.gz\n",
      "Downloading http://yann.lecun.com/exdb/mnist/train-labels-idx1-ubyte.gz to /home/siena/.pytorch/MNIST_data/MNIST/raw/train-labels-idx1-ubyte.gz\n"
     ]
    },
    {
     "name": "stderr",
     "output_type": "stream",
     "text": [
      "113.5%"
     ]
    },
    {
     "name": "stdout",
     "output_type": "stream",
     "text": [
      "Extracting /home/siena/.pytorch/MNIST_data/MNIST/raw/train-labels-idx1-ubyte.gz\n",
      "Downloading http://yann.lecun.com/exdb/mnist/t10k-images-idx3-ubyte.gz to /home/siena/.pytorch/MNIST_data/MNIST/raw/t10k-images-idx3-ubyte.gz\n"
     ]
    },
    {
     "name": "stderr",
     "output_type": "stream",
     "text": [
      "100.4%"
     ]
    },
    {
     "name": "stdout",
     "output_type": "stream",
     "text": [
      "Extracting /home/siena/.pytorch/MNIST_data/MNIST/raw/t10k-images-idx3-ubyte.gz\n",
      "Downloading http://yann.lecun.com/exdb/mnist/t10k-labels-idx1-ubyte.gz to /home/siena/.pytorch/MNIST_data/MNIST/raw/t10k-labels-idx1-ubyte.gz\n"
     ]
    },
    {
     "name": "stderr",
     "output_type": "stream",
     "text": [
      "180.4%"
     ]
    },
    {
     "name": "stdout",
     "output_type": "stream",
     "text": [
      "Extracting /home/siena/.pytorch/MNIST_data/MNIST/raw/t10k-labels-idx1-ubyte.gz\n",
      "Processing...\n",
      "Done!\n"
     ]
    }
   ],
   "source": [
    "### Run this cell\n",
    "\n",
    "from torchvision import datasets, transforms\n",
    "\n",
    "# Define a transform to normalize the data\n",
    "transform = transforms.Compose([transforms.ToTensor(),\n",
    "                              transforms.Normalize((0.5,), (0.5,)),\n",
    "                              ])\n",
    "\n",
    "# Download and load the training data\n",
    "trainset = datasets.MNIST('~/.pytorch/MNIST_data/', download=True, train=True, transform=transform)\n",
    "trainloader = torch.utils.data.DataLoader(trainset, batch_size=64, shuffle=True)"
   ]
  },
  {
   "cell_type": "markdown",
   "metadata": {},
   "source": [
    "We have the training data loaded into `trainloader` and we make that an iterator with `iter(trainloader)`. Later, we'll use this to loop through the dataset for training, like\n",
    "\n",
    "```python\n",
    "for image, label in trainloader:\n",
    "    ## do things with images and labels\n",
    "```\n",
    "\n",
    "You'll notice I created the `trainloader` with a batch size of 64, and `shuffle=True`. The batch size is the number of images we get in one iteration from the data loader and pass through our network, often called a *batch*. And `shuffle=True` tells it to shuffle the dataset every time we start going through the data loader again. But here I'm just grabbing the first batch so we can check out the data. We can see below that `images` is just a tensor with size `(64, 1, 28, 28)`. So, 64 images per batch, 1 color channel, and 28x28 images."
   ]
  },
  {
   "cell_type": "code",
   "execution_count": 3,
   "metadata": {},
   "outputs": [
    {
     "name": "stdout",
     "output_type": "stream",
     "text": [
      "<class 'torch.Tensor'>\n",
      "torch.Size([64, 1, 28, 28])\n",
      "torch.Size([64])\n"
     ]
    }
   ],
   "source": [
    "dataiter = iter(trainloader)\n",
    "images, labels = dataiter.next()\n",
    "print(type(images))\n",
    "print(images.shape)\n",
    "print(labels.shape)"
   ]
  },
  {
   "cell_type": "markdown",
   "metadata": {},
   "source": [
    "This is what one of the images looks like. "
   ]
  },
  {
   "cell_type": "code",
   "execution_count": 4,
   "metadata": {},
   "outputs": [
    {
     "data": {
      "image/png": "[encoded data removed]",
      "text/plain": [
       "<Figure size 432x288 with 1 Axes>"
      ]
     },
     "metadata": {
      "image/png": {
       "height": 250,
       "width": 253
      }
     },
     "output_type": "display_data"
    }
   ],
   "source": [
    "plt.imshow(images[1].numpy().squeeze(), cmap='Greys_r');"
   ]
  },
  {
   "cell_type": "markdown",
   "metadata": {},
   "source": [
    "First, let's try to build a simple network for this dataset using weight matrices and matrix multiplications. Then, we'll see how to do it using PyTorch's `nn` module which provides a much more convenient and powerful method for defining network architectures.\n",
    "\n",
    "The networks you've seen so far are called *fully-connected* or *dense* networks. Each unit in one layer is connected to each unit in the next layer. In fully-connected networks, the input to each layer must be a one-dimensional vector (which can be stacked into a 2D tensor as a batch of multiple examples). However, our images are 28x28 2D tensors, so we need to convert them into 1D vectors. Thinking about sizes, we need to convert the batch of images with shape `(64, 1, 28, 28)` to a have a shape of `(64, 784)`, 784 is 28 times 28. This is typically called *flattening*, we flattened the 2D images into 1D vectors.\n",
    "\n",
    "Previously you built a network with one output unit. Here we need 10 output units, one for each digit. We want our network to predict the digit shown in an image, so what we'll do is calculate probabilities that the image is of any one digit or class. This ends up being a discrete probability distribution over the classes (digits) that tells us the most likely class for the image. That means we need 10 output units for the 10 classes (digits). We'll see how to convert the network output into a probability distribution next.\n",
    "\n",
    "> **Exercise:** Flatten the batch of images `images`. Then build a multi-layer network with 784 input units, 256 hidden units, and 10 output units using random tensors for the weights and biases. For now, use a sigmoid activation for the hidden layer. Leave the output layer without an activation, we'll add one that gives us a probability distribution next."
   ]
  },
  {
   "cell_type": "code",
   "execution_count": 54,
   "metadata": {},
   "outputs": [
    {
     "data": {
      "text/plain": [
       "tensor([[-21.7444,   8.1423,   1.2897,   0.1414,  -9.0263,  -2.3034,   1.3578,\n",
       "          -5.1243,  10.9192,   5.1204],\n",
       "        [ -7.2271,  -3.5818, -17.1796,  11.5814,  -6.5229,   8.3522,  -5.3947,\n",
       "          -5.9491,  -4.0477,  -3.6037],\n",
       "        [-15.1500,   2.2390, -17.7677,   2.0361, -10.1243,   2.0768,   0.3859,\n",
       "          -1.3741,  -5.2840,   8.2704],\n",
       "        [-27.8315, -11.1410, -18.7861,  12.1926,  -6.7156,   2.0339, -12.4477,\n",
       "           2.8028, -14.7824,   3.1337],\n",
       "        [-15.8157,   5.4998,  -6.1720,  10.8573, -12.5788,   8.9064, -11.8394,\n",
       "          -8.4303,   0.5961,  -0.3325],\n",
       "        [-13.8975,   2.9188,  -6.3057,  13.8098,  -6.3296,  -0.1690,  -8.0778,\n",
       "         -10.8397,   0.6679,   7.8722],\n",
       "        [-18.7933,   4.1672,  -5.6874,   8.1670, -18.2920,  12.3209,  -0.5644,\n",
       "          -8.4096,   3.7146,   1.3757],\n",
       "        [-11.1890,  -2.8935, -19.9837,   3.4964,  -6.8221,   3.6856,  -5.6087,\n",
       "           6.5191,  -4.8658,   3.5768],\n",
       "        [-12.0038,  -1.1745, -24.2630,   7.6888,  -4.6749,  12.0192,   6.6245,\n",
       "          -4.9235,  -7.7179,   3.1311],\n",
       "        [-23.6905,   5.0844,  -3.4521,   7.0169, -12.3515,   3.8836,  -5.0939,\n",
       "          -5.9974,   8.6873,   5.4707],\n",
       "        [-15.2267,   3.1780,  -5.2104,  -7.0189,  -3.7693,  -4.8918, -15.1230,\n",
       "           1.5070,  -7.0393,   3.1968],\n",
       "        [-10.5567,  -4.4236, -16.8158,  -2.0774,  -9.3152,   3.4576,  -3.7616,\n",
       "         -10.3038,  -2.4240,   5.6294],\n",
       "        [-22.3609,  -0.5734, -13.6802,   5.8958, -13.5382,   6.8642,  -8.0222,\n",
       "          -4.3673,   1.2102,   9.0221],\n",
       "        [-16.4682,   5.6228,  -9.8751,   5.0743, -11.0327,   7.0837,  -1.8664,\n",
       "          -2.9107,  -2.3345,   0.4960],\n",
       "        [-23.5624,   3.4180, -10.1219,   0.6559,  -1.0100,   1.2786,  -6.6233,\n",
       "          -7.3384,  10.4651,  10.0831],\n",
       "        [-14.0852,  -1.7635, -22.5187,  -2.6558, -16.2897,   0.3772,  -4.8933,\n",
       "          -5.2557,  -2.7331,   4.4430],\n",
       "        [-11.0503,   4.1911,  -6.4399,  -2.0711, -10.2642,  -4.9755,  -7.3443,\n",
       "          -7.8164,  -8.5949,   1.8215],\n",
       "        [-28.3491,   2.9663,  -4.0698,  -2.6140, -22.9169,   6.5050,  -6.2812,\n",
       "           0.9370,   2.3444,  -9.1172],\n",
       "        [-20.2763,   8.3013,  -6.5269,   7.6912,  -5.6195,   0.8815,  -0.3438,\n",
       "          -2.8879,  -7.8341,   4.5005],\n",
       "        [-19.3946,   5.8032,  -9.3944,  -1.2138,  -3.9031,   1.1295,  -8.5673,\n",
       "           1.6978,  -4.3943,  -1.9265],\n",
       "        [-11.4682,  -9.0618, -23.7739,   5.0063,  -5.8496,   7.7267,  -6.5002,\n",
       "           0.7782,   5.3401,   5.6341],\n",
       "        [-15.8823,   1.5084, -13.4040,  -0.2613, -17.8911,  -1.9991,  -9.1650,\n",
       "          -4.8738, -11.1214,   5.1450],\n",
       "        [-15.5094,  -2.6790, -10.6548,   0.1537, -11.5526,   3.3939,  -2.4112,\n",
       "          -7.8281,  -2.0170,  -2.6601],\n",
       "        [-18.1784,  -8.4965, -18.9763,   5.1043,  -2.4126,   3.0073, -10.4415,\n",
       "          -5.6933,  -2.5497,  11.9554],\n",
       "        [-16.8077,  -0.2836, -11.4029,  13.0033, -10.2578,   5.2515,  -0.6465,\n",
       "          -5.3503,  -1.6603,  -0.4170],\n",
       "        [-25.6082,  -5.9829, -11.0073,   6.7697, -16.9671, -10.0440,  -8.4203,\n",
       "           2.6870,  -6.1968,  -5.8883],\n",
       "        [-13.7809,  -7.9779, -17.9684,   8.5961,  -5.1856,   2.9567,  -2.8735,\n",
       "         -10.8233,  -3.8104,   3.4882],\n",
       "        [-14.8142,  -8.4483, -10.8588,   7.1758,  -0.6406,  -0.6854,  -3.4936,\n",
       "          -1.5008,  -7.0882,   3.6894],\n",
       "        [-11.6925,  -0.7525, -20.7856,   8.9566,  -2.3929,   5.7111,  -5.1987,\n",
       "           4.9129, -12.4479,   0.4877],\n",
       "        [ -9.3148,   2.1929, -13.4270,   4.1444, -10.3247,   0.8385,  -2.0674,\n",
       "          -4.4096,  -4.8232,   4.8888],\n",
       "        [-16.3905,  -0.9657, -21.2301,  -0.2098,  -1.2277,  -3.6591,  -7.3050,\n",
       "          -4.6744,  -6.6972,  -1.8243],\n",
       "        [-16.1358,   4.2636,  -6.5328,   2.6286,  -0.7519,  -3.7395,  -5.5569,\n",
       "           0.2280, -11.4634,   2.8618],\n",
       "        [-18.7764,  -1.2997, -12.1892,   5.4386, -10.5418,  -1.1742,  -7.0623,\n",
       "          -6.0960,  -8.4047,   2.1523],\n",
       "        [-13.4103,   5.2666,  -8.0292,   1.8263, -13.4284,   3.3311,  -5.5405,\n",
       "          -7.8592,  -5.3268,   3.7332],\n",
       "        [-21.2894,   0.0726,  -4.3762,   9.7062,  -6.6914,  10.8577,  -1.8203,\n",
       "          -2.5999,  -4.3065,  10.9672],\n",
       "        [-16.6815,  -3.4486, -14.9519,  10.8353,  -4.5113,  -6.3825,  -2.9310,\n",
       "           4.7678, -10.2940,  11.1565],\n",
       "        [-21.2213,  -0.8913, -14.2316,  12.1272, -11.2078,  -8.7247, -14.7045,\n",
       "         -11.5059,   4.8718,  -1.8283],\n",
       "        [-12.7432,  -0.6440, -10.5248,  -2.8912,  -9.6852,   1.3965,  -8.3699,\n",
       "          -4.1437,   0.9394,  -0.7297],\n",
       "        [-10.3176,  -0.4800, -13.3727,   9.6494,  -2.7230,  -0.8492, -15.9230,\n",
       "          -6.0641,  -1.3648,   1.4772],\n",
       "        [-24.7391,   6.4903, -13.0782,   8.2887, -17.9262,  10.4174,  -7.9703,\n",
       "          -1.4485,  -9.2357,   4.5811],\n",
       "        [-19.5019,   3.8959, -14.1330,  -2.8967, -12.3784,   4.8884,  -2.6792,\n",
       "          -3.7756,   2.7797,   9.3335],\n",
       "        [-32.7202,   0.4020, -22.7277,   4.4426, -11.9663,  10.1874, -11.4942,\n",
       "          -0.5015,   2.9144,   6.8304],\n",
       "        [-31.8327,  -3.5009, -13.1168,  10.5157,  -8.9845,  11.0089,  -4.1423,\n",
       "          -4.9340,   4.9046,  -5.7857],\n",
       "        [-23.7924, -11.0599, -25.1131,  10.5938,  -4.0703,   3.4526,  -4.2052,\n",
       "         -11.1408,  -4.2906,   7.7202],\n",
       "        [-18.2377,   7.6148, -21.2097,  -0.9676,   5.9784,   6.7346,  -8.7996,\n",
       "          -5.7648,   1.6822,   4.0248],\n",
       "        [-20.3961,   9.6622, -12.2389,  -4.3319,  -7.1964,  -6.3233,  -8.4343,\n",
       "           0.1558,  -5.8593,  -0.1685],\n",
       "        [-15.0218,  -1.0565, -23.6247,   2.3538,  -1.7001,   3.5043,  -4.4687,\n",
       "          -1.4345,  -7.9854,   5.4837],\n",
       "        [-12.2962,  -2.8947, -12.7465,   5.3011, -18.6827,  -2.7402,  -7.7925,\n",
       "          -5.6667,  -5.8360,   1.6426],\n",
       "        [-20.1000,   6.4624, -11.2404,   0.7251, -19.9656,   3.9185, -17.5960,\n",
       "           0.9053,  -2.5205,   1.3425],\n",
       "        [-19.9495,   0.6511,  -3.5050,   8.7530,   0.1968,  -2.8779, -13.8160,\n",
       "          -9.0081,   0.1931,  10.5930],\n",
       "        [-18.4285,  -1.6236, -15.5340,   3.8492, -17.4063,  -2.2430,  -3.7796,\n",
       "          -7.0027,   5.0965,  -3.0946],\n",
       "        [-14.5710,   0.4216, -20.1419,   7.4704, -12.8565,   1.3338,   8.0008,\n",
       "          -9.5985,  -9.6291,   4.0485],\n",
       "        [-25.0072,   5.5149, -11.8493,  -0.2912, -12.8517,   9.7970,  -0.3646,\n",
       "          -3.8912, -11.2985,  -1.3374],\n",
       "        [-15.1807,   0.3950, -15.6366,   9.0685,   0.5397,   9.3656, -12.2162,\n",
       "          -8.8845,  -2.8037,  -1.2223],\n",
       "        [-21.6042,  10.3463, -18.1982,   7.4601,  -6.8291,  -3.4204,  -8.4946,\n",
       "          -1.8090,  -8.6312,  -1.2901],\n",
       "        [-18.5846,  -1.6911, -26.0926,   8.9280,  -9.3571,   3.8898,   1.6102,\n",
       "           5.8531,  -0.1939,   5.0500],\n",
       "        [-28.5715,   8.1559, -10.2799,   7.5400,  -5.6920,   9.4733,  -7.2391,\n",
       "          -6.7251,  -1.8511,  -6.4293],\n",
       "        [-18.2618,  -3.0047, -10.7902,  10.7447,  -9.2972,   6.2576,  -2.1149,\n",
       "          -0.8398,  -1.8564,   4.1940],\n",
       "        [-22.2641,   2.6576, -16.6525,  10.5058,   1.7938,   1.8623,   1.7808,\n",
       "          -2.9287,  -7.6619,   7.2780],\n",
       "        [-17.8684,   1.3713, -14.5790,   0.1899, -12.0869,   2.5131,  -5.3717,\n",
       "          -3.2461, -13.8063,   0.2394],\n",
       "        [-20.9081,  -8.5219, -14.5496,   5.6822,  -0.8301,   6.4046, -16.2137,\n",
       "          -6.3703,  -2.7147,   7.1857],\n",
       "        [-16.6048,   6.5437, -18.7718,   0.2718,  -4.9087,   0.5305, -11.9370,\n",
       "         -12.2372,  -3.1448,  -2.5497],\n",
       "        [-17.5483,  -4.4582,  -6.3303,   3.8589,  -4.3277,   3.0677,  -3.6272,\n",
       "          -3.6019,  -0.8841,   4.9333],\n",
       "        [-23.1824,   3.6263, -18.4093,   2.5965,   3.9909,  11.3938, -11.9275,\n",
       "          -0.7251,   3.8156,   7.1218]])"
      ]
     },
     "execution_count": 54,
     "metadata": {},
     "output_type": "execute_result"
    }
   ],
   "source": [
    "def activation(x):\n",
    "    return 1/(1+torch.exp(x))\n",
    "\n",
    "inputs = images.view(images.shape[0],-1)\n",
    "\n",
    "w1 = torch.randn(784, 256)\n",
    "b1 = torch.randn(256)\n",
    "\n",
    "w2 = torch.randn(256, 10)\n",
    "b2 = torch.randn(10)\n",
    "\n",
    "h = activation(torch.mm(inputs, w1) + b1)\n",
    "\n",
    "out = torch.mm(h, w2) + b2\n",
    "out.shape"
   ]
  },
  {
   "cell_type": "markdown",
   "metadata": {},
   "source": [
    "Now we have 10 outputs for our network. We want to pass in an image to our network and get out a probability distribution over the classes that tells us the likely class(es) the image belongs to. Something that looks like this:\n",
    "<img src='assets/image_distribution.png' width=500px>\n",
    "\n",
    "Here we see that the probability for each class is roughly the same. This is representing an untrained network, it hasn't seen any data yet so it just returns a uniform distribution with equal probabilities for each class.\n",
    "\n",
    "To calculate this probability distribution, we often use the [**softmax** function](https://en.wikipedia.org/wiki/Softmax_function). Mathematically this looks like\n",
    "\n",
    "$$\n",
    "\\Large \\sigma(x_i) = \\cfrac{e^{x_i}}{\\sum_k^K{e^{x_k}}}\n",
    "$$\n",
    "\n",
    "What this does is squish each input $x_i$ between 0 and 1 and normalizes the values to give you a proper probability distribution where the probabilites sum up to one.\n",
    "\n",
    "> **Exercise:** Implement a function `softmax` that performs the softmax calculation and returns probability distributions for each example in the batch. Note that you'll need to pay attention to the shapes when doing this. If you have a tensor `a` with shape `(64, 10)` and a tensor `b` with shape `(64,)`, doing `a/b` will give you an error because PyTorch will try to do the division across the columns (called broadcasting) but you'll get a size mismatch. The way to think about this is for each of the 64 examples, you only want to divide by one value, the sum in the denominator. So you need `b` to have a shape of `(64, 1)`. This way PyTorch will divide the 10 values in each row of `a` by the one value in each row of `b`. Pay attention to how you take the sum as well. You'll need to define the `dim` keyword in `torch.sum`. Setting `dim=0` takes the sum across the rows while `dim=1` takes the sum across the columns."
   ]
  },
  {
   "cell_type": "code",
   "execution_count": 55,
   "metadata": {},
   "outputs": [
    {
     "name": "stdout",
     "output_type": "stream",
     "text": [
      "torch.Size([64, 10])\n",
      "tensor([1.0000, 1.0000, 1.0000, 1.0000, 1.0000, 1.0000, 1.0000, 1.0000, 1.0000,\n",
      "        1.0000, 1.0000, 1.0000, 1.0000, 1.0000, 1.0000, 1.0000, 1.0000, 1.0000,\n",
      "        1.0000, 1.0000, 1.0000, 1.0000, 1.0000, 1.0000, 1.0000, 1.0000, 1.0000,\n",
      "        1.0000, 1.0000, 1.0000, 1.0000, 1.0000, 1.0000, 1.0000, 1.0000, 1.0000,\n",
      "        1.0000, 1.0000, 1.0000, 1.0000, 1.0000, 1.0000, 1.0000, 1.0000, 1.0000,\n",
      "        1.0000, 1.0000, 1.0000, 1.0000, 1.0000, 1.0000, 1.0000, 1.0000, 1.0000,\n",
      "        1.0000, 1.0000, 1.0000, 1.0000, 1.0000, 1.0000, 1.0000, 1.0000, 1.0000,\n",
      "        1.0000])\n"
     ]
    }
   ],
   "source": [
    "def softmax(x):\n",
    "    return torch.exp(x)/torch.sum(torch.exp(x), dim=1).view(-1,1)\n",
    "\n",
    "# Here, out should be the output of the network in the previous excercise with shape (64,10)\n",
    "probabilities = softmax(out)\n",
    "\n",
    "# Does it have the right shape? Should be (64, 10)\n",
    "print(probabilities.shape)\n",
    "# Does it sum to 1?\n",
    "print(probabilities.sum(dim=1))"
   ]
  },
  {
   "cell_type": "markdown",
   "metadata": {},
   "source": [
    "## Building networks with PyTorch\n",
    "\n",
    "PyTorch provides a module `nn` that makes building networks much simpler. Here I'll show you how to build the same one as above with 784 inputs, 256 hidden units, 10 output units and a softmax output."
   ]
  },
  {
   "cell_type": "code",
   "execution_count": 56,
   "metadata": {},
   "outputs": [],
   "source": [
    "from torch import nn"
   ]
  },
  {
   "cell_type": "code",
   "execution_count": 57,
   "metadata": {},
   "outputs": [],
   "source": [
    "class Network(nn.Module):\n",
    "    def __init__(self):\n",
    "        super().__init__()\n",
    "        \n",
    "        # Inputs to hidden layer linear transformation\n",
    "        self.hidden = nn.Linear(784, 256)\n",
    "        # Output layer, 10 units - one for each digit\n",
    "        self.output = nn.Linear(256, 10)\n",
    "        \n",
    "        # Define sigmoid activation and softmax output \n",
    "        self.sigmoid = nn.Sigmoid()\n",
    "        self.softmax = nn.Softmax(dim=1)\n",
    "        \n",
    "    def forward(self, x):\n",
    "        # Pass the input tensor through each of our operations\n",
    "        x = self.hidden(x)\n",
    "        x = self.sigmoid(x)\n",
    "        x = self.output(x)\n",
    "        x = self.softmax(x)\n",
    "        \n",
    "        return x"
   ]
  },
  {
   "cell_type": "markdown",
   "metadata": {},
   "source": [
    "Let's go through this bit by bit.\n",
    "\n",
    "```python\n",
    "class Network(nn.Module):\n",
    "```\n",
    "\n",
    "Here we're inheriting from `nn.Module`. Combined with `super().__init__()` this creates a class that tracks the architecture and provides a lot of useful methods and attributes. It is mandatory to inherit from `nn.Module` when you're creating a class for your network. The name of the class itself can be anything.\n",
    "\n",
    "```python\n",
    "self.hidden = nn.Linear(784, 256)\n",
    "```\n",
    "\n",
    "This line creates a module for a linear transformation, $x\\mathbf{W} + b$, with 784 inputs and 256 outputs and assigns it to `self.hidden`. The module automatically creates the weight and bias tensors which we'll use in the `forward` method. You can access the weight and bias tensors once the network (`net`) is created with `net.hidden.weight` and `net.hidden.bias`.\n",
    "\n",
    "```python\n",
    "self.output = nn.Linear(256, 10)\n",
    "```\n",
    "\n",
    "Similarly, this creates another linear transformation with 256 inputs and 10 outputs.\n",
    "\n",
    "```python\n",
    "self.sigmoid = nn.Sigmoid()\n",
    "self.softmax = nn.Softmax(dim=1)\n",
    "```\n",
    "\n",
    "Here I defined operations for the sigmoid activation and softmax output. Setting `dim=1` in `nn.Softmax(dim=1)` calculates softmax across the columns.\n",
    "\n",
    "```python\n",
    "def forward(self, x):\n",
    "```\n",
    "\n",
    "PyTorch networks created with `nn.Module` must have a `forward` method defined. It takes in a tensor `x` and passes it through the operations you defined in the `__init__` method.\n",
    "\n",
    "```python\n",
    "x = self.hidden(x)\n",
    "x = self.sigmoid(x)\n",
    "x = self.output(x)\n",
    "x = self.softmax(x)\n",
    "```\n",
    "\n",
    "Here the input tensor `x` is passed through each operation and reassigned to `x`. We can see that the input tensor goes through the hidden layer, then a sigmoid function, then the output layer, and finally the softmax function. It doesn't matter what you name the variables here, as long as the inputs and outputs of the operations match the network architecture you want to build. The order in which you define things in the `__init__` method doesn't matter, but you'll need to sequence the operations correctly in the `forward` method.\n",
    "\n",
    "Now we can create a `Network` object."
   ]
  },
  {
   "cell_type": "code",
   "execution_count": null,
   "metadata": {
    "collapsed": true
   },
   "outputs": [],
   "source": [
    "# Create the network and look at it's text representation\n",
    "model = Network()\n",
    "model"
   ]
  },
  {
   "cell_type": "markdown",
   "metadata": {},
   "source": [
    "You can define the network somewhat more concisely and clearly using the `torch.nn.functional` module. This is the most common way you'll see networks defined as many operations are simple element-wise functions. We normally import this module as `F`, `import torch.nn.functional as F`."
   ]
  },
  {
   "cell_type": "code",
   "execution_count": null,
   "metadata": {
    "collapsed": true
   },
   "outputs": [],
   "source": [
    "import torch.nn.functional as F\n",
    "\n",
    "class Network(nn.Module):\n",
    "    def __init__(self):\n",
    "        super().__init__()\n",
    "        # Inputs to hidden layer linear transformation\n",
    "        self.hidden = nn.Linear(784, 256)\n",
    "        # Output layer, 10 units - one for each digit\n",
    "        self.output = nn.Linear(256, 10)\n",
    "        \n",
    "    def forward(self, x):\n",
    "        # Hidden layer with sigmoid activation\n",
    "        x = F.sigmoid(self.hidden(x))\n",
    "        # Output layer with softmax activation\n",
    "        x = F.softmax(self.output(x), dim=1)\n",
    "        \n",
    "        return x"
   ]
  },
  {
   "cell_type": "markdown",
   "metadata": {},
   "source": [
    "### Activation functions\n",
    "\n",
    "So far we've only been looking at the sigmoid activation function, but in general any function can be used as an activation function. The only requirement is that for a network to approximate a non-linear function, the activation functions must be non-linear. Here are a few more examples of common activation functions: Tanh (hyperbolic tangent), and ReLU (rectified linear unit).\n",
    "\n",
    "<img src=\"assets/activation.png\" width=700px>\n",
    "\n",
    "In practice, the ReLU function is used almost exclusively as the activation function for hidden layers."
   ]
  },
  {
   "cell_type": "markdown",
   "metadata": {},
   "source": [
    "### Your Turn to Build a Network\n",
    "\n",
    "<img src=\"assets/mlp_mnist.png\" width=600px>\n",
    "\n",
    "> **Exercise:** Create a network with 784 input units, a hidden layer with 128 units and a ReLU activation, then a hidden layer with 64 units and a ReLU activation, and finally an output layer with a softmax activation as shown above. You can use a ReLU activation with the `nn.ReLU` module or `F.relu` function.\n",
    "\n",
    "It's good practice to name your layers by their type of network, for instance 'fc' to represent a fully-connected layer. As you code your solution, use `fc1`, `fc2`, and `fc3` as your layer names."
   ]
  },
  {
   "cell_type": "code",
   "execution_count": 58,
   "metadata": {
    "scrolled": true
   },
   "outputs": [],
   "source": [
    "class Network(nn.Module):\n",
    "    def __init__(self):\n",
    "        super().__init__()\n",
    "        self.hidden1 = nn.Linear(784, 128)\n",
    "        self.hidden2 = nn.Linear(128, 64)\n",
    "        self.output = nn.Linear(64, 10)\n",
    "        \n",
    "    def forward(self, x):\n",
    "        x = F.relu(self.hidden1(x))\n",
    "        x = F.relu(self.hidden2(x))\n",
    "        x = F.softmax(self.output(x), dim=1)\n",
    "        \n",
    "        return x"
   ]
  },
  {
   "cell_type": "markdown",
   "metadata": {},
   "source": [
    "### Initializing weights and biases\n",
    "\n",
    "The weights and such are automatically initialized for you, but it's possible to customize how they are initialized. The weights and biases are tensors attached to the layer you defined, you can get them with `model.fc1.weight` for instance."
   ]
  },
  {
   "cell_type": "code",
   "execution_count": 59,
   "metadata": {},
   "outputs": [
    {
     "ename": "NameError",
     "evalue": "name 'model' is not defined",
     "output_type": "error",
     "traceback": [
      "\u001b[0;31m---------------------------------------------------------------------------\u001b[0m",
      "\u001b[0;31mNameError\u001b[0m                                 Traceback (most recent call last)",
      "\u001b[0;32m<ipython-input-59-59b34e7f797b>\u001b[0m in \u001b[0;36m<module>\u001b[0;34m()\u001b[0m\n\u001b[0;32m----> 1\u001b[0;31m \u001b[0mprint\u001b[0m\u001b[0;34m(\u001b[0m\u001b[0mmodel\u001b[0m\u001b[0;34m.\u001b[0m\u001b[0mfc1\u001b[0m\u001b[0;34m.\u001b[0m\u001b[0mweight\u001b[0m\u001b[0;34m)\u001b[0m\u001b[0;34m\u001b[0m\u001b[0m\n\u001b[0m\u001b[1;32m      2\u001b[0m \u001b[0mprint\u001b[0m\u001b[0;34m(\u001b[0m\u001b[0mmodel\u001b[0m\u001b[0;34m.\u001b[0m\u001b[0mfc1\u001b[0m\u001b[0;34m.\u001b[0m\u001b[0mbias\u001b[0m\u001b[0;34m)\u001b[0m\u001b[0;34m\u001b[0m\u001b[0m\n",
      "\u001b[0;31mNameError\u001b[0m: name 'model' is not defined"
     ]
    }
   ],
   "source": [
    "print(model.fc1.weight)\n",
    "print(model.fc1.bias)"
   ]
  },
  {
   "cell_type": "markdown",
   "metadata": {},
   "source": [
    "For custom initialization, we want to modify these tensors in place. These are actually autograd *Variables*, so we need to get back the actual tensors with `model.fc1.weight.data`. Once we have the tensors, we can fill them with zeros (for biases) or random normal values."
   ]
  },
  {
   "cell_type": "code",
   "execution_count": null,
   "metadata": {
    "collapsed": true
   },
   "outputs": [],
   "source": [
    "# Set biases to all zeros\n",
    "model.fc1.bias.data.fill_(0)"
   ]
  },
  {
   "cell_type": "code",
   "execution_count": null,
   "metadata": {
    "collapsed": true
   },
   "outputs": [],
   "source": [
    "# sample from random normal with standard dev = 0.01\n",
    "model.fc1.weight.data.normal_(std=0.01)"
   ]
  },
  {
   "cell_type": "markdown",
   "metadata": {},
   "source": [
    "### Forward pass\n",
    "\n",
    "Now that we have a network, let's see what happens when we pass in an image."
   ]
  },
  {
   "cell_type": "code",
   "execution_count": null,
   "metadata": {
    "collapsed": true
   },
   "outputs": [],
   "source": [
    "# Grab some data \n",
    "dataiter = iter(trainloader)\n",
    "images, labels = dataiter.next()\n",
    "\n",
    "# Resize images into a 1D vector, new shape is (batch size, color channels, image pixels) \n",
    "images.resize_(64, 1, 784)\n",
    "# or images.resize_(images.shape[0], 1, 784) to automatically get batch size\n",
    "\n",
    "# Forward pass through the network\n",
    "img_idx = 0\n",
    "ps = model.forward(images[img_idx,:])\n",
    "\n",
    "img = images[img_idx]\n",
    "helper.view_classify(img.view(1, 28, 28), ps)"
   ]
  },
  {
   "cell_type": "markdown",
   "metadata": {},
   "source": [
    "As you can see above, our network has basically no idea what this digit is. It's because we haven't trained it yet, all the weights are random!\n",
    "\n",
    "### Using `nn.Sequential`\n",
    "\n",
    "PyTorch provides a convenient way to build networks like this where a tensor is passed sequentially through operations, `nn.Sequential` ([documentation](https://pytorch.org/docs/master/nn.html#torch.nn.Sequential)). Using this to build the equivalent network:"
   ]
  },
  {
   "cell_type": "code",
   "execution_count": null,
   "metadata": {
    "collapsed": true
   },
   "outputs": [],
   "source": [
    "# Hyperparameters for our network\n",
    "input_size = 784\n",
    "hidden_sizes = [128, 64]\n",
    "output_size = 10\n",
    "\n",
    "# Build a feed-forward network\n",
    "model = nn.Sequential(nn.Linear(input_size, hidden_sizes[0]),\n",
    "                      nn.ReLU(),\n",
    "                      nn.Linear(hidden_sizes[0], hidden_sizes[1]),\n",
    "                      nn.ReLU(),\n",
    "                      nn.Linear(hidden_sizes[1], output_size),\n",
    "                      nn.Softmax(dim=1))\n",
    "print(model)\n",
    "\n",
    "# Forward pass through the network and display output\n",
    "images, labels = next(iter(trainloader))\n",
    "images.resize_(images.shape[0], 1, 784)\n",
    "ps = model.forward(images[0,:])\n",
    "helper.view_classify(images[0].view(1, 28, 28), ps)"
   ]
  },
  {
   "cell_type": "markdown",
   "metadata": {},
   "source": [
    "Here our model is the same as before: 784 input units, a hidden layer with 128 units, ReLU activation, 64 unit hidden layer, another ReLU, then the output layer with 10 units, and the softmax output.\n",
    "\n",
    "The operations are available by passing in the appropriate index. For example, if you want to get first Linear operation and look at the weights, you'd use `model[0]`."
   ]
  },
  {
   "cell_type": "code",
   "execution_count": null,
   "metadata": {
    "collapsed": true
   },
   "outputs": [],
   "source": [
    "print(model[0])\n",
    "model[0].weight"
   ]
  },
  {
   "cell_type": "markdown",
   "metadata": {},
   "source": [
    "You can also pass in an `OrderedDict` to name the individual layers and operations, instead of using incremental integers. Note that dictionary keys must be unique, so _each operation must have a different name_."
   ]
  },
  {
   "cell_type": "code",
   "execution_count": null,
   "metadata": {
    "collapsed": true
   },
   "outputs": [],
   "source": [
    "from collections import OrderedDict\n",
    "model = nn.Sequential(OrderedDict([\n",
    "                      ('fc1', nn.Linear(input_size, hidden_sizes[0])),\n",
    "                      ('relu1', nn.ReLU()),\n",
    "                      ('fc2', nn.Linear(hidden_sizes[0], hidden_sizes[1])),\n",
    "                      ('relu2', nn.ReLU()),\n",
    "                      ('output', nn.Linear(hidden_sizes[1], output_size)),\n",
    "                      ('softmax', nn.Softmax(dim=1))]))\n",
    "model"
   ]
  },
  {
   "cell_type": "markdown",
   "metadata": {},
   "source": [
    "Now you can access layers either by integer or the name"
   ]
  },
  {
   "cell_type": "code",
   "execution_count": null,
   "metadata": {
    "collapsed": true
   },
   "outputs": [],
   "source": [
    "print(model[0])\n",
    "print(model.fc1)"
   ]
  },
  {
   "cell_type": "markdown",
   "metadata": {},
   "source": [
    "In the next notebook, we'll see how we can train a neural network to accuractly predict the numbers appearing in the MNIST images."
   ]
  }
 ],
 "metadata": {
  "kernelspec": {
   "display_name": "Python 3",
   "language": "python",
   "name": "python3"
  },
  "language_info": {
   "codemirror_mode": {
    "name": "ipython",
    "version": 3
   },
   "file_extension": ".py",
   "mimetype": "text/x-python",
   "name": "python",
   "nbconvert_exporter": "python",
   "pygments_lexer": "ipython3",
   "version": "3.6.5"
  }
 },
 "nbformat": 4,
 "nbformat_minor": 2
}
